{
  "nbformat": 4,
  "nbformat_minor": 0,
  "metadata": {
    "colab": {
      "name": "aya_by_aya.ipynb",
      "provenance": [],
      "authorship_tag": "ABX9TyNCUBf8a7508xFxxXn+tlxy",
      "include_colab_link": true
    },
    "kernelspec": {
      "name": "python3",
      "display_name": "Python 3"
    }
  },
  "cells": [
    {
      "cell_type": "markdown",
      "metadata": {
        "id": "view-in-github",
        "colab_type": "text"
      },
      "source": [
        "<a href=\"https://colab.research.google.com/github/elalaouifaris/ayat/blob/master/aya_by_aya.ipynb\" target=\"_parent\"><img src=\"https://colab.research.google.com/assets/colab-badge.svg\" alt=\"Open In Colab\"/></a>"
      ]
    },
    {
      "cell_type": "code",
      "metadata": {
        "id": "hrt5kY6Fq7YZ",
        "colab_type": "code",
        "colab": {}
      },
      "source": [
        "import os\n",
        "import requests\n",
        "import re\n",
        "import shutil\n",
        "from tqdm import tqdm\n",
        "import urllib\n",
        "import zipfile"
      ],
      "execution_count": 0,
      "outputs": []
    },
    {
      "cell_type": "markdown",
      "metadata": {
        "id": "TUMpsxoC0Qi7",
        "colab_type": "text"
      },
      "source": [
        "# Helper functions"
      ]
    },
    {
      "cell_type": "code",
      "metadata": {
        "id": "jUmbmkm30aFG",
        "colab_type": "code",
        "colab": {}
      },
      "source": [
        "def get_files_list(url, pattern=r'href=\"(\\d{6}.mp3)\"'):\n",
        "  doc_list = requests.get(url)\n",
        "  html_tbl = doc_list.content\n",
        "  aya_file_names = re.findall(pattern, str(html_tbl))\n",
        "  return aya_file_names"
      ],
      "execution_count": 0,
      "outputs": []
    },
    {
      "cell_type": "code",
      "metadata": {
        "id": "yAYFq_GsxJQg",
        "colab_type": "code",
        "colab": {}
      },
      "source": [
        "def download_in(a_files_list, target_folder):\n",
        "  if not os.path.isdir(target_folder):\n",
        "    os.mkdir(target_folder)\n",
        "    for aya in tqdm(a_files_list):\n",
        "      path = url + aya\n",
        "      local_path = os.path.join(target_folder, aya)\n",
        "      urllib.request.urlretrieve(path, local_path)\n",
        "  else:\n",
        "    raise OSError(\"Folder already exists!\")\n"
      ],
      "execution_count": 0,
      "outputs": []
    },
    {
      "cell_type": "code",
      "metadata": {
        "id": "rwZw01gNtRLU",
        "colab_type": "code",
        "colab": {}
      },
      "source": [
        "def zipdir(path, ziph):\n",
        "    # ziph is zipfile handle\n",
        "    for root, dirs, files in os.walk(path):\n",
        "        for file in files:\n",
        "            ziph.write(os.path.join(root, file))"
      ],
      "execution_count": 0,
      "outputs": []
    },
    {
      "cell_type": "code",
      "metadata": {
        "id": "MNoAT54W3f72",
        "colab_type": "code",
        "colab": {}
      },
      "source": [
        "def remove_download(a_folder):\n",
        "  shutil.rmtree(a_folder)"
      ],
      "execution_count": 0,
      "outputs": []
    },
    {
      "cell_type": "markdown",
      "metadata": {
        "id": "E-34ZnNX3dnj",
        "colab_type": "text"
      },
      "source": [
        "# Aya by Aya:"
      ]
    },
    {
      "cell_type": "code",
      "metadata": {
        "id": "nwHa5tLArlZM",
        "colab_type": "code",
        "colab": {}
      },
      "source": [
        "url = \"https://www.cfcm.tv/coran/audio/elafasy2/\"\n",
        "aya_file_names = get_files_list(url)\n",
        "fixed_names = [\"audhubillah.mp3\",\n",
        "               \"bismillah.mp3\",\n",
        "               \"000_unverified_checksum.md5\"]\n",
        "aya_files = aya_file_names + fixed_names"
      ],
      "execution_count": 0,
      "outputs": []
    },
    {
      "cell_type": "code",
      "metadata": {
        "id": "RIjTnpNXyU_y",
        "colab_type": "code",
        "colab": {}
      },
      "source": [
        "aya_folder_name = \"aya_by_aya_download\"\n",
        "download_in(aya_files, aya_folder_name)"
      ],
      "execution_count": 0,
      "outputs": []
    },
    {
      "cell_type": "code",
      "metadata": {
        "id": "uC4Hhsrd7nZQ",
        "colab_type": "code",
        "colab": {}
      },
      "source": [
        "zip_name = \"aya_by_aya.zip\"\n",
        "zip_ayat = zipfile.ZipFile(zip_name, 'w', zipfile.ZIP_DEFLATED)\n",
        "zipdir(aya_folder_name, zip_ayat)"
      ],
      "execution_count": 0,
      "outputs": []
    },
    {
      "cell_type": "code",
      "metadata": {
        "id": "LORrAiy33tzF",
        "colab_type": "code",
        "colab": {}
      },
      "source": [
        "clean = False\n",
        "if clean: remove_download(aya_folder_name)"
      ],
      "execution_count": 0,
      "outputs": []
    }
  ]
}